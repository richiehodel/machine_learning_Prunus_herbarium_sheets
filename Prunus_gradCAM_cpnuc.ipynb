{
  "cells": [
    {
      "cell_type": "markdown",
      "metadata": {
        "id": "RGjhZK3WxUAm"
      },
      "source": [
        "##This notebook uses gradient class activation mapping to determine which pixels are more important for model classifications"
      ]
    },
    {
      "cell_type": "code",
      "execution_count": null,
      "metadata": {
        "colab": {
          "base_uri": "https://localhost:8080/"
        },
        "id": "cRMzl6VmqN4Q",
        "outputId": "950e2e52-fead-463b-e9b7-597da5fb5b42"
      },
      "outputs": [
        {
          "output_type": "stream",
          "name": "stdout",
          "text": [
            "\u001b[2K     \u001b[90m━━━━━━━━━━━━━━━━━━━━━━━━━━━━━━━━━━━━━━\u001b[0m \u001b[32m719.8/719.8 kB\u001b[0m \u001b[31m19.2 MB/s\u001b[0m eta \u001b[36m0:00:00\u001b[0m\n",
            "\u001b[2K     \u001b[90m━━━━━━━━━━━━━━━━━━━━━━━━━━━━━━━━━━━━━━━━\u001b[0m \u001b[32m7.2/7.2 MB\u001b[0m \u001b[31m89.2 MB/s\u001b[0m eta \u001b[36m0:00:00\u001b[0m\n",
            "\u001b[2K     \u001b[90m━━━━━━━━━━━━━━━━━━━━━━━━━━━━━━━━━━━━━━\u001b[0m \u001b[32m486.2/486.2 kB\u001b[0m \u001b[31m52.2 MB/s\u001b[0m eta \u001b[36m0:00:00\u001b[0m\n",
            "\u001b[2K     \u001b[90m━━━━━━━━━━━━━━━━━━━━━━━━━━━━━━━━━━━━━━━━\u001b[0m \u001b[32m1.3/1.3 MB\u001b[0m \u001b[31m81.5 MB/s\u001b[0m eta \u001b[36m0:00:00\u001b[0m\n",
            "\u001b[2K     \u001b[90m━━━━━━━━━━━━━━━━━━━━━━━━━━━━━━━━━━━━━━\u001b[0m \u001b[32m110.5/110.5 kB\u001b[0m \u001b[31m16.2 MB/s\u001b[0m eta \u001b[36m0:00:00\u001b[0m\n",
            "\u001b[2K     \u001b[90m━━━━━━━━━━━━━━━━━━━━━━━━━━━━━━━━━━━━━━\u001b[0m \u001b[32m212.5/212.5 kB\u001b[0m \u001b[31m27.5 MB/s\u001b[0m eta \u001b[36m0:00:00\u001b[0m\n",
            "\u001b[2K     \u001b[90m━━━━━━━━━━━━━━━━━━━━━━━━━━━━━━━━━━━━━━\u001b[0m \u001b[32m134.3/134.3 kB\u001b[0m \u001b[31m18.1 MB/s\u001b[0m eta \u001b[36m0:00:00\u001b[0m\n",
            "\u001b[2K     \u001b[90m━━━━━━━━━━━━━━━━━━━━━━━━━━━━━━━━━━━━━━\u001b[0m \u001b[32m268.8/268.8 kB\u001b[0m \u001b[31m32.9 MB/s\u001b[0m eta \u001b[36m0:00:00\u001b[0m\n",
            "\u001b[2K     \u001b[90m━━━━━━━━━━━━━━━━━━━━━━━━━━━━━━━━━━━━━━━━\u001b[0m \u001b[32m7.8/7.8 MB\u001b[0m \u001b[31m99.9 MB/s\u001b[0m eta \u001b[36m0:00:00\u001b[0m\n",
            "\u001b[2K     \u001b[90m━━━━━━━━━━━━━━━━━━━━━━━━━━━━━━━━━━━━━━━━\u001b[0m \u001b[32m1.3/1.3 MB\u001b[0m \u001b[31m77.0 MB/s\u001b[0m eta \u001b[36m0:00:00\u001b[0m\n",
            "\u001b[2K     \u001b[90m━━━━━━━━━━━━━━━━━━━━━━━━━━━━━━━━━━━━━━━━\u001b[0m \u001b[32m1.6/1.6 MB\u001b[0m \u001b[31m85.0 MB/s\u001b[0m eta \u001b[36m0:00:00\u001b[0m\n",
            "\u001b[?25hMounted at /content/gdrive\n"
          ]
        }
      ],
      "source": [
        "!pip install -Uqq fastbook\n",
        "import fastbook\n",
        "fastbook.setup_book()\n"
      ]
    },
    {
      "cell_type": "code",
      "execution_count": null,
      "metadata": {
        "id": "BXeBJ-YNqN4V"
      },
      "outputs": [],
      "source": [
        "#hide\n",
        "from fastbook import *\n",
        "from fastai.vision.widgets import *"
      ]
    },
    {
      "cell_type": "code",
      "execution_count": null,
      "metadata": {
        "colab": {
          "base_uri": "https://localhost:8080/"
        },
        "id": "UK0fajKcrUOp",
        "outputId": "8605877a-25d5-4965-f668-3fe925b88307"
      },
      "outputs": [
        {
          "output_type": "stream",
          "name": "stdout",
          "text": [
            "Mounted at /content/drive\n"
          ]
        }
      ],
      "source": [
        "from google.colab import drive\n",
        "drive.mount('/content/drive')\n"
      ]
    },
    {
      "cell_type": "code",
      "execution_count": null,
      "metadata": {
        "id": "8ILtxWbnutif"
      },
      "outputs": [],
      "source": [
        "path = '/content/drive/MyDrive/DL_images/CP_NUC/model_dev_trim1/'"
      ]
    },
    {
      "cell_type": "markdown",
      "metadata": {
        "id": "lu_k4G5LvOZ7"
      },
      "source": [
        "Read in data. This may take a few minutes, especially if there are thousands of images."
      ]
    },
    {
      "cell_type": "code",
      "execution_count": null,
      "metadata": {
        "colab": {
          "base_uri": "https://localhost:8080/"
        },
        "id": "tBdrKd8wut2Q",
        "outputId": "a199c42b-eb1e-451d-c153-02dfd26fe2f7"
      },
      "outputs": [
        {
          "output_type": "execute_result",
          "data": {
            "text/plain": [
              "(#4229) [Path('/content/drive/MyDrive/DL_images/CP_NUC/model_dev_trim1/SC_trim1/cerasoides_c228dd99-0d0c-4b5f-907f-7e6db29189d7.jpg'),Path('/content/drive/MyDrive/DL_images/CP_NUC/model_dev_trim1/SC_trim1/cerasoides_c74d3958-d47e-431b-8d2f-9adde3de3abd.jpg'),Path('/content/drive/MyDrive/DL_images/CP_NUC/model_dev_trim1/SC_trim1/cerasoides_cba87a33-53d1-4818-8793-a362513c8a94.jpg'),Path('/content/drive/MyDrive/DL_images/CP_NUC/model_dev_trim1/SC_trim1/cerasoides_cce75b07-dae8-4246-ae26-dab581839cc3.jpg'),Path('/content/drive/MyDrive/DL_images/CP_NUC/model_dev_trim1/SC_trim1/cerasoides_d171172d-46c3-4487-9077-e0048b7870e2.jpg'),Path('/content/drive/MyDrive/DL_images/CP_NUC/model_dev_trim1/SC_trim1/cerasoides_e10f584a-87eb-46c2-b6a8-3ebed026b445.jpg'),Path('/content/drive/MyDrive/DL_images/CP_NUC/model_dev_trim1/SC_trim1/cerasoides_e14340ea-0296-4e00-98d2-d804933a38c0.jpg'),Path('/content/drive/MyDrive/DL_images/CP_NUC/model_dev_trim1/SC_trim1/cerasoides_e6ee68a7-b6e4-4f78-89d5-d478fbb643ad.jpg'),Path('/content/drive/MyDrive/DL_images/CP_NUC/model_dev_trim1/SC_trim1/cerasoides_ea3f32b5-b335-4c42-96ea-66be1dcf75b8.jpg'),Path('/content/drive/MyDrive/DL_images/CP_NUC/model_dev_trim1/SC_trim1/cerasoides_eead7b0d-c263-43fb-af48-06b3bca0b377.jpg')...]"
            ]
          },
          "metadata": {},
          "execution_count": 6
        }
      ],
      "source": [
        "fns = get_image_files(path)\n",
        "fns"
      ]
    },
    {
      "cell_type": "markdown",
      "metadata": {
        "id": "X54ZIfFLylKp"
      },
      "source": [
        "Will need to make sure these parameters (or at least the dls) match the model made and imported\n",
        "\n",
        "---\n",
        "\n"
      ]
    },
    {
      "cell_type": "code",
      "execution_count": null,
      "metadata": {
        "id": "DysMOdSGuuq-"
      },
      "outputs": [],
      "source": [
        "pilot_cp_nuc = DataBlock(\n",
        "    blocks=(ImageBlock, CategoryBlock),\n",
        "    get_items=get_image_files,\n",
        "    splitter=RandomSplitter(valid_pct=0.2, seed=42),\n",
        "    get_y=parent_label,\n",
        "    item_tfms=Resize(128))"
      ]
    },
    {
      "cell_type": "code",
      "execution_count": null,
      "metadata": {
        "id": "lwXICPR0vhbR"
      },
      "outputs": [],
      "source": [
        "dls = pilot_cp_nuc.dataloaders(path)"
      ]
    },
    {
      "cell_type": "code",
      "execution_count": null,
      "metadata": {
        "id": "ptDV3LokvhtA"
      },
      "outputs": [],
      "source": [
        "pilot_cp_nuc = pilot_cp_nuc.new(\n",
        "    item_tfms=RandomResizedCrop(224, min_scale=0.5),\n",
        "    batch_tfms=aug_transforms())\n",
        "\n",
        "\n",
        "dls = pilot_cp_nuc.dataloaders(path)"
      ]
    },
    {
      "cell_type": "code",
      "execution_count": null,
      "metadata": {
        "colab": {
          "base_uri": "https://localhost:8080/"
        },
        "id": "qNTOGVeDJJWF",
        "outputId": "f011d788-d04f-4918-d4ba-a492bce289ba"
      },
      "outputs": [
        {
          "output_type": "stream",
          "name": "stdout",
          "text": [
            "/content/drive/MyDrive/DL_images/CP_NUC/model_dev_trim1\n"
          ]
        }
      ],
      "source": [
        "cd /content/drive/MyDrive/DL_images/CP_NUC/model_dev_trim1"
      ]
    },
    {
      "cell_type": "markdown",
      "source": [
        "The three items in this directory: two subdirectories and the model, saved as a .pkl file"
      ],
      "metadata": {
        "id": "NiwMEDN5tuDK"
      }
    },
    {
      "cell_type": "code",
      "execution_count": null,
      "metadata": {
        "colab": {
          "base_uri": "https://localhost:8080/"
        },
        "id": "yLsY8MVRJS-5",
        "outputId": "c1dc00ae-aa84-4a6d-bcf8-b7f763a778d7"
      },
      "outputs": [
        {
          "output_type": "stream",
          "name": "stdout",
          "text": [
            "prunus_res50_cpnuc_v5_trim1_fp16_24epochs.pkl  \u001b[0m\u001b[01;34mSC_trim1\u001b[0m/  \u001b[01;34mTR_trim1\u001b[0m/\n"
          ]
        }
      ],
      "source": [
        "ls"
      ]
    },
    {
      "cell_type": "code",
      "execution_count": null,
      "metadata": {
        "id": "Y7SsGN0QwSp0"
      },
      "outputs": [],
      "source": [
        "learn_inf = load_learner('prunus_res50_cpnuc_v5_trim1_fp16_24epochs.pkl')\n"
      ]
    },
    {
      "cell_type": "code",
      "execution_count": null,
      "metadata": {
        "id": "N25h8a0USKqN"
      },
      "outputs": [],
      "source": [
        "learn_inf.model.cuda()"
      ]
    },
    {
      "cell_type": "code",
      "execution_count": null,
      "metadata": {
        "id": "6crbR9TzT0m7"
      },
      "outputs": [],
      "source": []
    },
    {
      "cell_type": "markdown",
      "metadata": {
        "id": "0CmAyURNBB7r"
      },
      "source": [
        "#Now define hooks to be used for gradient CAM"
      ]
    },
    {
      "cell_type": "code",
      "execution_count": null,
      "metadata": {
        "id": "82Yxqqz0W-DP"
      },
      "outputs": [],
      "source": [
        "class Hook():\n",
        "    def __init__(self, m):\n",
        "        self.hook = m.register_forward_hook(self.hook_func)\n",
        "    def hook_func(self, m, i, o): self.stored = o.detach().clone()\n",
        "    def __enter__(self, *args): return self\n",
        "    def __exit__(self, *args): self.hook.remove()"
      ]
    },
    {
      "cell_type": "code",
      "execution_count": null,
      "metadata": {
        "id": "oq9muXi8AICq"
      },
      "outputs": [],
      "source": [
        "class HookBwd():\n",
        "    def __init__(self, m):\n",
        "        self.hook = m.register_backward_hook(self.hook_func)\n",
        "    def hook_func(self, m, gi, go): self.stored = go[0].detach().clone()\n",
        "    def __enter__(self, *args): return self\n",
        "    def __exit__(self, *args): self.hook.remove()\n"
      ]
    },
    {
      "cell_type": "code",
      "execution_count": null,
      "metadata": {
        "colab": {
          "base_uri": "https://localhost:8080/"
        },
        "id": "JKmMRxXt08bp",
        "outputId": "f3db80c8-61f8-4044-f4b4-cacd4999f494"
      },
      "outputs": [
        {
          "output_type": "stream",
          "name": "stdout",
          "text": [
            "/content/drive/MyDrive/DL_images/CP_NUC\n"
          ]
        }
      ],
      "source": [
        "cd /content/drive/MyDrive/DL_images/CP_NUC/"
      ]
    },
    {
      "cell_type": "code",
      "execution_count": null,
      "metadata": {
        "id": "_HoB_s2sCkJ0"
      },
      "outputs": [],
      "source": [
        "import pandas as pd"
      ]
    },
    {
      "cell_type": "markdown",
      "source": [
        "## First, look at images that are from temperate racemose species that were classified as solitary/corymbose\n",
        "\n",
        "```\n",
        "# This is formatted as code\n",
        "```\n",
        "\n"
      ],
      "metadata": {
        "id": "6vE3Q7K-fl6Y"
      }
    },
    {
      "cell_type": "code",
      "execution_count": null,
      "metadata": {
        "id": "rFfDMCbX2wiX"
      },
      "outputs": [],
      "source": [
        "hold_img = pd.read_csv(\"temp_racemose_probs_trim1_v5_sc233.csv\")"
      ]
    },
    {
      "cell_type": "code",
      "execution_count": null,
      "metadata": {
        "colab": {
          "base_uri": "https://localhost:8080/"
        },
        "id": "P9aIBQUc2LuO",
        "outputId": "6d92e688-e529-4798-9122-48688030402c"
      },
      "outputs": [
        {
          "output_type": "stream",
          "name": "stdout",
          "text": [
            "/content/drive/MyDrive/DL_images/CP_NUC/temp_racemose_padus_CAM_trim1\n"
          ]
        }
      ],
      "source": [
        "cd \"/content/drive/MyDrive/DL_images/final_nbs/cp_nuc_models/trim/temp_racemose_padus_trim1\""
      ]
    },
    {
      "cell_type": "code",
      "execution_count": null,
      "metadata": {
        "id": "SVnzf5eU7ebg",
        "colab": {
          "base_uri": "https://localhost:8080/"
        },
        "outputId": "696ea6b1-560c-4c14-cb20-09522e148502"
      },
      "outputs": [
        {
          "output_type": "execute_result",
          "data": {
            "text/plain": [
              "['SC_trim1', 'TR_trim1']"
            ]
          },
          "metadata": {},
          "execution_count": 29
        }
      ],
      "source": [
        "learn_inf.dls.vocab"
      ]
    },
    {
      "cell_type": "code",
      "execution_count": null,
      "metadata": {
        "colab": {
          "base_uri": "https://localhost:8080/",
          "height": 423
        },
        "id": "4l29WLm40gYk",
        "outputId": "94bfb69a-e260-4e65-ec9c-29de002fc2f7"
      },
      "outputs": [
        {
          "output_type": "execute_result",
          "data": {
            "text/plain": [
              "                                                   image classification  \\\n",
              "0      serotina_062639c7-effa-41c0-a209-d7a5cc7ef83e.jpg       SC_trim1   \n",
              "1      serotina_060eab75-9b9a-47ab-a0d8-a95519c4be13.jpg       SC_trim1   \n",
              "2      serotina_06517809-091a-45f8-867c-d24302188732.jpg       SC_trim1   \n",
              "3      serotina_05b2cbee-0ae8-4958-b356-24d6505da560.jpg       SC_trim1   \n",
              "4      serotina_05301f64-b5bc-4363-9b80-247741752d84.jpg       SC_trim1   \n",
              "..                                                   ...            ...   \n",
              "228     grayana_93f4e119-10f7-4f85-bc6c-a618fd321e0c.jpg       SC_trim1   \n",
              "229  virginiana_02e6ff97-a182-47fb-861b-6cde071814b1.jpg       SC_trim1   \n",
              "230    serotina_0452c818-8a2b-4fc5-905c-ba6608f90564.jpg       SC_trim1   \n",
              "231  virginiana_018b861d-aa43-48a1-aff1-63dab210380c.jpg       SC_trim1   \n",
              "232  virginiana_00b4bc88-bd6b-49a2-aba8-8644d792b627.jpg       SC_trim1   \n",
              "\n",
              "     probability  \n",
              "0         1.0000  \n",
              "1         1.0000  \n",
              "2         1.0000  \n",
              "3         1.0000  \n",
              "4         1.0000  \n",
              "..           ...  \n",
              "228       0.9143  \n",
              "229       0.9139  \n",
              "230       0.9126  \n",
              "231       0.9123  \n",
              "232       0.9027  \n",
              "\n",
              "[233 rows x 3 columns]"
            ],
            "text/html": [
              "\n",
              "  <div id=\"df-a16b84d0-57ad-448f-85f2-bc35b893c1a0\">\n",
              "    <div class=\"colab-df-container\">\n",
              "      <div>\n",
              "<style scoped>\n",
              "    .dataframe tbody tr th:only-of-type {\n",
              "        vertical-align: middle;\n",
              "    }\n",
              "\n",
              "    .dataframe tbody tr th {\n",
              "        vertical-align: top;\n",
              "    }\n",
              "\n",
              "    .dataframe thead th {\n",
              "        text-align: right;\n",
              "    }\n",
              "</style>\n",
              "<table border=\"1\" class=\"dataframe\">\n",
              "  <thead>\n",
              "    <tr style=\"text-align: right;\">\n",
              "      <th></th>\n",
              "      <th>image</th>\n",
              "      <th>classification</th>\n",
              "      <th>probability</th>\n",
              "    </tr>\n",
              "  </thead>\n",
              "  <tbody>\n",
              "    <tr>\n",
              "      <th>0</th>\n",
              "      <td>serotina_062639c7-effa-41c0-a209-d7a5cc7ef83e.jpg</td>\n",
              "      <td>SC_trim1</td>\n",
              "      <td>1.0000</td>\n",
              "    </tr>\n",
              "    <tr>\n",
              "      <th>1</th>\n",
              "      <td>serotina_060eab75-9b9a-47ab-a0d8-a95519c4be13.jpg</td>\n",
              "      <td>SC_trim1</td>\n",
              "      <td>1.0000</td>\n",
              "    </tr>\n",
              "    <tr>\n",
              "      <th>2</th>\n",
              "      <td>serotina_06517809-091a-45f8-867c-d24302188732.jpg</td>\n",
              "      <td>SC_trim1</td>\n",
              "      <td>1.0000</td>\n",
              "    </tr>\n",
              "    <tr>\n",
              "      <th>3</th>\n",
              "      <td>serotina_05b2cbee-0ae8-4958-b356-24d6505da560.jpg</td>\n",
              "      <td>SC_trim1</td>\n",
              "      <td>1.0000</td>\n",
              "    </tr>\n",
              "    <tr>\n",
              "      <th>4</th>\n",
              "      <td>serotina_05301f64-b5bc-4363-9b80-247741752d84.jpg</td>\n",
              "      <td>SC_trim1</td>\n",
              "      <td>1.0000</td>\n",
              "    </tr>\n",
              "    <tr>\n",
              "      <th>...</th>\n",
              "      <td>...</td>\n",
              "      <td>...</td>\n",
              "      <td>...</td>\n",
              "    </tr>\n",
              "    <tr>\n",
              "      <th>228</th>\n",
              "      <td>grayana_93f4e119-10f7-4f85-bc6c-a618fd321e0c.jpg</td>\n",
              "      <td>SC_trim1</td>\n",
              "      <td>0.9143</td>\n",
              "    </tr>\n",
              "    <tr>\n",
              "      <th>229</th>\n",
              "      <td>virginiana_02e6ff97-a182-47fb-861b-6cde071814b1.jpg</td>\n",
              "      <td>SC_trim1</td>\n",
              "      <td>0.9139</td>\n",
              "    </tr>\n",
              "    <tr>\n",
              "      <th>230</th>\n",
              "      <td>serotina_0452c818-8a2b-4fc5-905c-ba6608f90564.jpg</td>\n",
              "      <td>SC_trim1</td>\n",
              "      <td>0.9126</td>\n",
              "    </tr>\n",
              "    <tr>\n",
              "      <th>231</th>\n",
              "      <td>virginiana_018b861d-aa43-48a1-aff1-63dab210380c.jpg</td>\n",
              "      <td>SC_trim1</td>\n",
              "      <td>0.9123</td>\n",
              "    </tr>\n",
              "    <tr>\n",
              "      <th>232</th>\n",
              "      <td>virginiana_00b4bc88-bd6b-49a2-aba8-8644d792b627.jpg</td>\n",
              "      <td>SC_trim1</td>\n",
              "      <td>0.9027</td>\n",
              "    </tr>\n",
              "  </tbody>\n",
              "</table>\n",
              "<p>233 rows × 3 columns</p>\n",
              "</div>\n",
              "      <button class=\"colab-df-convert\" onclick=\"convertToInteractive('df-a16b84d0-57ad-448f-85f2-bc35b893c1a0')\"\n",
              "              title=\"Convert this dataframe to an interactive table.\"\n",
              "              style=\"display:none;\">\n",
              "        \n",
              "  <svg xmlns=\"http://www.w3.org/2000/svg\" height=\"24px\"viewBox=\"0 0 24 24\"\n",
              "       width=\"24px\">\n",
              "    <path d=\"M0 0h24v24H0V0z\" fill=\"none\"/>\n",
              "    <path d=\"M18.56 5.44l.94 2.06.94-2.06 2.06-.94-2.06-.94-.94-2.06-.94 2.06-2.06.94zm-11 1L8.5 8.5l.94-2.06 2.06-.94-2.06-.94L8.5 2.5l-.94 2.06-2.06.94zm10 10l.94 2.06.94-2.06 2.06-.94-2.06-.94-.94-2.06-.94 2.06-2.06.94z\"/><path d=\"M17.41 7.96l-1.37-1.37c-.4-.4-.92-.59-1.43-.59-.52 0-1.04.2-1.43.59L10.3 9.45l-7.72 7.72c-.78.78-.78 2.05 0 2.83L4 21.41c.39.39.9.59 1.41.59.51 0 1.02-.2 1.41-.59l7.78-7.78 2.81-2.81c.8-.78.8-2.07 0-2.86zM5.41 20L4 18.59l7.72-7.72 1.47 1.35L5.41 20z\"/>\n",
              "  </svg>\n",
              "      </button>\n",
              "      \n",
              "  <style>\n",
              "    .colab-df-container {\n",
              "      display:flex;\n",
              "      flex-wrap:wrap;\n",
              "      gap: 12px;\n",
              "    }\n",
              "\n",
              "    .colab-df-convert {\n",
              "      background-color: #E8F0FE;\n",
              "      border: none;\n",
              "      border-radius: 50%;\n",
              "      cursor: pointer;\n",
              "      display: none;\n",
              "      fill: #1967D2;\n",
              "      height: 32px;\n",
              "      padding: 0 0 0 0;\n",
              "      width: 32px;\n",
              "    }\n",
              "\n",
              "    .colab-df-convert:hover {\n",
              "      background-color: #E2EBFA;\n",
              "      box-shadow: 0px 1px 2px rgba(60, 64, 67, 0.3), 0px 1px 3px 1px rgba(60, 64, 67, 0.15);\n",
              "      fill: #174EA6;\n",
              "    }\n",
              "\n",
              "    [theme=dark] .colab-df-convert {\n",
              "      background-color: #3B4455;\n",
              "      fill: #D2E3FC;\n",
              "    }\n",
              "\n",
              "    [theme=dark] .colab-df-convert:hover {\n",
              "      background-color: #434B5C;\n",
              "      box-shadow: 0px 1px 3px 1px rgba(0, 0, 0, 0.15);\n",
              "      filter: drop-shadow(0px 1px 2px rgba(0, 0, 0, 0.3));\n",
              "      fill: #FFFFFF;\n",
              "    }\n",
              "  </style>\n",
              "\n",
              "      <script>\n",
              "        const buttonEl =\n",
              "          document.querySelector('#df-a16b84d0-57ad-448f-85f2-bc35b893c1a0 button.colab-df-convert');\n",
              "        buttonEl.style.display =\n",
              "          google.colab.kernel.accessAllowed ? 'block' : 'none';\n",
              "\n",
              "        async function convertToInteractive(key) {\n",
              "          const element = document.querySelector('#df-a16b84d0-57ad-448f-85f2-bc35b893c1a0');\n",
              "          const dataTable =\n",
              "            await google.colab.kernel.invokeFunction('convertToInteractive',\n",
              "                                                     [key], {});\n",
              "          if (!dataTable) return;\n",
              "\n",
              "          const docLinkHtml = 'Like what you see? Visit the ' +\n",
              "            '<a target=\"_blank\" href=https://colab.research.google.com/notebooks/data_table.ipynb>data table notebook</a>'\n",
              "            + ' to learn more about interactive tables.';\n",
              "          element.innerHTML = '';\n",
              "          dataTable['output_type'] = 'display_data';\n",
              "          await google.colab.output.renderOutput(dataTable, element);\n",
              "          const docLink = document.createElement('div');\n",
              "          docLink.innerHTML = docLinkHtml;\n",
              "          element.appendChild(docLink);\n",
              "        }\n",
              "      </script>\n",
              "    </div>\n",
              "  </div>\n",
              "  "
            ]
          },
          "metadata": {},
          "execution_count": 30
        }
      ],
      "source": [
        "hold_img"
      ]
    },
    {
      "cell_type": "markdown",
      "source": [
        "This loop uses hooks to get features from the last model layer"
      ],
      "metadata": {
        "id": "QnMM2d4lecIl"
      }
    },
    {
      "cell_type": "code",
      "execution_count": null,
      "metadata": {
        "id": "FiXAcwcvy5Ao"
      },
      "outputs": [],
      "source": [
        "for counter in range(0,234):\n",
        " # counter=0;\n",
        "  img = hold_img['image'][counter];\n",
        "  print(img);\n",
        "  x, = first(dls.test_dl([img]));\n",
        "  with Hook(learn_inf.model[0]) as hook:\n",
        "      with torch.no_grad(): output = learn_inf.model.eval()(x.cuda())\n",
        "      act = hook.stored\n",
        "      #  cls 0 for sc, cls 1 for trop race\n",
        "  cls = 0\n",
        "  with HookBwd(learn_inf.model[0]) as hookg:\n",
        "      with Hook(learn_inf.model[0]) as hook:\n",
        "          output = learn_inf.model.eval()(x.cuda())\n",
        "          act = hook.stored\n",
        "      output[0,cls].backward()\n",
        "      grad = hookg.stored\n",
        "  w = grad[0].mean(dim=[1,2], keepdim=True)\n",
        "  cam_map = (w * act[0]).sum(0)\n",
        "  x_dec = TensorImage(dls.train.decode((x,))[0][0])\n",
        "  fig,ax = plt.subplots()\n",
        "  x_dec.show(ctx=ax)\n",
        "  ax.imshow(cam_map.detach().cpu(), alpha=0.6, extent=(0,224,224,0),\n",
        "                interpolation='bilinear', cmap='magma');\n",
        "  filename = '/content/drive/MyDrive/DL_images/CP_NUC/temp_racemose_padus_CAM_trim1/output_sc_lastlayer_' + str(counter) + '.png';\n",
        "  fig.savefig(filename);\n",
        "  plt.close(fig);"
      ]
    },
    {
      "cell_type": "code",
      "execution_count": null,
      "metadata": {
        "id": "7qqFh90Jj79G"
      },
      "outputs": [],
      "source": []
    },
    {
      "cell_type": "code",
      "execution_count": null,
      "metadata": {
        "id": "wiJl6xqcj7-u"
      },
      "outputs": [],
      "source": []
    },
    {
      "cell_type": "markdown",
      "metadata": {
        "id": "HX4dd1C16Q03"
      },
      "source": [
        "# The following loops access inner layers of the model"
      ]
    },
    {
      "cell_type": "code",
      "execution_count": null,
      "metadata": {
        "id": "p1mi-F9GGkY3"
      },
      "outputs": [],
      "source": [
        "for counter in range(0,234):\n",
        "  img = hold_img['image'][counter];\n",
        "  print(img);\n",
        "  x, = first(dls.test_dl([img]));\n",
        "        #  cls 0 for sc, cls 1 for trop race\n",
        "  cls = 0\n",
        "  with HookBwd(learn_inf.model[0][-2]) as hookg:\n",
        "      with Hook(learn_inf.model[0][-2]) as hook:\n",
        "          output = learn_inf.model.eval()(x.cuda())\n",
        "          act = hook.stored\n",
        "      output[0,cls].backward()\n",
        "      grad = hookg.stored\n",
        "  w = grad[0].mean(dim=[1,2], keepdim=True)\n",
        "  cam_map = (w * act[0]).sum(0)\n",
        "  x_dec = TensorImage(dls.train.decode((x,))[0][0])\n",
        "  fig,ax = plt.subplots()\n",
        "  x_dec.show(ctx=ax)\n",
        "  ax.imshow(cam_map.detach().cpu(), alpha=0.6, extent=(0,224,224,0),\n",
        "                interpolation='bilinear', cmap='magma');\n",
        "  filename = '/content/drive/MyDrive/DL_images/CP_NUC/temp_racemose_padus_CAM_trim1/output_sc_secondlastlayer_' + str(counter) + '.png'\n",
        "  fig.savefig(filename)\n",
        "  plt.close(fig)"
      ]
    },
    {
      "cell_type": "code",
      "execution_count": null,
      "metadata": {
        "id": "Gy2K-edvnxbQ"
      },
      "outputs": [],
      "source": []
    },
    {
      "cell_type": "code",
      "execution_count": null,
      "metadata": {
        "id": "ub4q3Vg8nxds"
      },
      "outputs": [],
      "source": [
        "for counter in range(0,239):\n",
        "  img = hold_img['image'][counter];\n",
        "  print(img);\n",
        "  x, = first(dls.test_dl([img]));\n",
        "        #  cls 0 for sc, cls 1 for trop race\n",
        "  cls = 0\n",
        "  with HookBwd(learn_inf.model[0][-3]) as hookg:\n",
        "      with Hook(learn_inf.model[0][-3]) as hook:\n",
        "          output = learn_inf.model.eval()(x.cuda())\n",
        "          act = hook.stored\n",
        "      output[0,cls].backward()\n",
        "      grad = hookg.stored\n",
        "  w = grad[0].mean(dim=[1,2], keepdim=True)\n",
        "  cam_map = (w * act[0]).sum(0)\n",
        "  x_dec = TensorImage(dls.train.decode((x,))[0][0])\n",
        "  fig,ax = plt.subplots()\n",
        "  x_dec.show(ctx=ax)\n",
        "  ax.imshow(cam_map.detach().cpu(), alpha=0.6, extent=(0,224,224,0),\n",
        "                interpolation='bilinear', cmap='magma');\n",
        "  filename = '/content/drive/MyDrive/DL_images/CP_NUC/temp_racemose_padus_CAM_trim1/output_sc_thirdlastlayer_' + str(counter) + '.png'\n",
        "  fig.savefig(filename)\n",
        "  plt.close(fig)"
      ]
    },
    {
      "cell_type": "code",
      "execution_count": null,
      "metadata": {
        "id": "5q_XZOHwnxhM"
      },
      "outputs": [],
      "source": []
    },
    {
      "cell_type": "code",
      "execution_count": null,
      "metadata": {
        "id": "1_tamXxKqeTm"
      },
      "outputs": [],
      "source": [
        "for counter in range(0,239):\n",
        "  img = hold_img['image'][counter];\n",
        "  print(img);\n",
        "  x, = first(dls.test_dl([img]));\n",
        "        #  cls 0 for sc, cls 1 for trop race\n",
        "  cls = 0\n",
        "  with HookBwd(learn_inf.model[0][-4]) as hookg:\n",
        "      with Hook(learn_inf.model[0][-4]) as hook:\n",
        "          output = learn_inf.model.eval()(x.cuda())\n",
        "          act = hook.stored\n",
        "      output[0,cls].backward()\n",
        "      grad = hookg.stored\n",
        "  w = grad[0].mean(dim=[1,2], keepdim=True)\n",
        "  cam_map = (w * act[0]).sum(0)\n",
        "  x_dec = TensorImage(dls.train.decode((x,))[0][0])\n",
        "  fig,ax = plt.subplots()\n",
        "  x_dec.show(ctx=ax)\n",
        "  ax.imshow(cam_map.detach().cpu(), alpha=0.6, extent=(0,224,224,0),\n",
        "                interpolation='bilinear', cmap='magma');\n",
        "  filename = '/content/drive/MyDrive/DL_images/CP_NUC/temp_racemose_padus_CAM_trim1/output_sc_fourthlastlayer_' + str(counter) + '.png'\n",
        "  fig.savefig(filename)\n",
        "  plt.close(fig)"
      ]
    },
    {
      "cell_type": "code",
      "source": [],
      "metadata": {
        "id": "6qCD6l5wenQr"
      },
      "execution_count": null,
      "outputs": []
    },
    {
      "cell_type": "code",
      "execution_count": null,
      "metadata": {
        "id": "Z3XFg64qsM3Z"
      },
      "outputs": [],
      "source": []
    },
    {
      "cell_type": "markdown",
      "metadata": {
        "id": "NtkJ4_T7sQF1"
      },
      "source": [
        "## Now load data for temperate racemose images classified as tropical racemose and get images for the last 4 layers"
      ]
    },
    {
      "cell_type": "code",
      "execution_count": null,
      "metadata": {
        "colab": {
          "base_uri": "https://localhost:8080/"
        },
        "id": "uYxRSiYYtzt4",
        "outputId": "9d02a6c2-7a31-4e6c-8cf3-bda0c32432b0"
      },
      "outputs": [
        {
          "output_type": "stream",
          "name": "stdout",
          "text": [
            "/content/drive/MyDrive/DL_images/CP_NUC\n"
          ]
        }
      ],
      "source": [
        "cd \"/content/drive/MyDrive/DL_images/CP_NUC/\""
      ]
    },
    {
      "cell_type": "code",
      "execution_count": null,
      "metadata": {
        "id": "ypwNKLtCsM6D"
      },
      "outputs": [],
      "source": [
        "hold_img2 = pd.read_csv(\"temp_racemose_probs_trim1_v5_tr194.csv\")"
      ]
    },
    {
      "cell_type": "code",
      "execution_count": null,
      "metadata": {
        "id": "biULd0BHshGi",
        "colab": {
          "base_uri": "https://localhost:8080/",
          "height": 423
        },
        "outputId": "f741b7d4-b9e8-4960-f52a-32127de393e4"
      },
      "outputs": [
        {
          "output_type": "execute_result",
          "data": {
            "text/plain": [
              "                                                   image classification  \\\n",
              "0    virginiana_002510c4-c44f-473d-8839-a74ad1b5c8f8.jpg       TR_trim1   \n",
              "1      serotina_05608d39-da63-4f9b-baa4-896c771f405f.jpg       TR_trim1   \n",
              "2      serotina_048f5080-952a-40f3-883f-ce2704814542.jpg       TR_trim1   \n",
              "3      serotina_04293b68-ddb4-4333-8e00-6ac75ff656af.jpg       TR_trim1   \n",
              "4      serotina_0388a63b-2699-4334-b01e-91c9af5bb410.jpg       TR_trim1   \n",
              "..                                                   ...            ...   \n",
              "189    serotina_03f83330-c624-44b0-911d-231b7faaeaff.jpg       TR_trim1   \n",
              "190  virginiana_0603b1a9-51a9-4514-ae7f-e81dab37585b.jpg       TR_trim1   \n",
              "191  virginiana_04d4d4e4-dec0-4a15-bcaf-291422d8d405.jpg       TR_trim1   \n",
              "192     grayana_04f6fbb3-1718-4c26-a1ef-3d6c19573ee2.jpg       TR_trim1   \n",
              "193  virginiana_004bbc7d-b57b-4919-b696-6587fb79eeea.jpg       TR_trim1   \n",
              "\n",
              "     probability  \n",
              "0         1.0000  \n",
              "1         1.0000  \n",
              "2         1.0000  \n",
              "3         1.0000  \n",
              "4         1.0000  \n",
              "..           ...  \n",
              "189       0.9152  \n",
              "190       0.9044  \n",
              "191       0.9034  \n",
              "192       0.9033  \n",
              "193       0.9009  \n",
              "\n",
              "[194 rows x 3 columns]"
            ],
            "text/html": [
              "\n",
              "  <div id=\"df-c25731ad-d133-4027-857a-762df33a4e61\">\n",
              "    <div class=\"colab-df-container\">\n",
              "      <div>\n",
              "<style scoped>\n",
              "    .dataframe tbody tr th:only-of-type {\n",
              "        vertical-align: middle;\n",
              "    }\n",
              "\n",
              "    .dataframe tbody tr th {\n",
              "        vertical-align: top;\n",
              "    }\n",
              "\n",
              "    .dataframe thead th {\n",
              "        text-align: right;\n",
              "    }\n",
              "</style>\n",
              "<table border=\"1\" class=\"dataframe\">\n",
              "  <thead>\n",
              "    <tr style=\"text-align: right;\">\n",
              "      <th></th>\n",
              "      <th>image</th>\n",
              "      <th>classification</th>\n",
              "      <th>probability</th>\n",
              "    </tr>\n",
              "  </thead>\n",
              "  <tbody>\n",
              "    <tr>\n",
              "      <th>0</th>\n",
              "      <td>virginiana_002510c4-c44f-473d-8839-a74ad1b5c8f8.jpg</td>\n",
              "      <td>TR_trim1</td>\n",
              "      <td>1.0000</td>\n",
              "    </tr>\n",
              "    <tr>\n",
              "      <th>1</th>\n",
              "      <td>serotina_05608d39-da63-4f9b-baa4-896c771f405f.jpg</td>\n",
              "      <td>TR_trim1</td>\n",
              "      <td>1.0000</td>\n",
              "    </tr>\n",
              "    <tr>\n",
              "      <th>2</th>\n",
              "      <td>serotina_048f5080-952a-40f3-883f-ce2704814542.jpg</td>\n",
              "      <td>TR_trim1</td>\n",
              "      <td>1.0000</td>\n",
              "    </tr>\n",
              "    <tr>\n",
              "      <th>3</th>\n",
              "      <td>serotina_04293b68-ddb4-4333-8e00-6ac75ff656af.jpg</td>\n",
              "      <td>TR_trim1</td>\n",
              "      <td>1.0000</td>\n",
              "    </tr>\n",
              "    <tr>\n",
              "      <th>4</th>\n",
              "      <td>serotina_0388a63b-2699-4334-b01e-91c9af5bb410.jpg</td>\n",
              "      <td>TR_trim1</td>\n",
              "      <td>1.0000</td>\n",
              "    </tr>\n",
              "    <tr>\n",
              "      <th>...</th>\n",
              "      <td>...</td>\n",
              "      <td>...</td>\n",
              "      <td>...</td>\n",
              "    </tr>\n",
              "    <tr>\n",
              "      <th>189</th>\n",
              "      <td>serotina_03f83330-c624-44b0-911d-231b7faaeaff.jpg</td>\n",
              "      <td>TR_trim1</td>\n",
              "      <td>0.9152</td>\n",
              "    </tr>\n",
              "    <tr>\n",
              "      <th>190</th>\n",
              "      <td>virginiana_0603b1a9-51a9-4514-ae7f-e81dab37585b.jpg</td>\n",
              "      <td>TR_trim1</td>\n",
              "      <td>0.9044</td>\n",
              "    </tr>\n",
              "    <tr>\n",
              "      <th>191</th>\n",
              "      <td>virginiana_04d4d4e4-dec0-4a15-bcaf-291422d8d405.jpg</td>\n",
              "      <td>TR_trim1</td>\n",
              "      <td>0.9034</td>\n",
              "    </tr>\n",
              "    <tr>\n",
              "      <th>192</th>\n",
              "      <td>grayana_04f6fbb3-1718-4c26-a1ef-3d6c19573ee2.jpg</td>\n",
              "      <td>TR_trim1</td>\n",
              "      <td>0.9033</td>\n",
              "    </tr>\n",
              "    <tr>\n",
              "      <th>193</th>\n",
              "      <td>virginiana_004bbc7d-b57b-4919-b696-6587fb79eeea.jpg</td>\n",
              "      <td>TR_trim1</td>\n",
              "      <td>0.9009</td>\n",
              "    </tr>\n",
              "  </tbody>\n",
              "</table>\n",
              "<p>194 rows × 3 columns</p>\n",
              "</div>\n",
              "      <button class=\"colab-df-convert\" onclick=\"convertToInteractive('df-c25731ad-d133-4027-857a-762df33a4e61')\"\n",
              "              title=\"Convert this dataframe to an interactive table.\"\n",
              "              style=\"display:none;\">\n",
              "        \n",
              "  <svg xmlns=\"http://www.w3.org/2000/svg\" height=\"24px\"viewBox=\"0 0 24 24\"\n",
              "       width=\"24px\">\n",
              "    <path d=\"M0 0h24v24H0V0z\" fill=\"none\"/>\n",
              "    <path d=\"M18.56 5.44l.94 2.06.94-2.06 2.06-.94-2.06-.94-.94-2.06-.94 2.06-2.06.94zm-11 1L8.5 8.5l.94-2.06 2.06-.94-2.06-.94L8.5 2.5l-.94 2.06-2.06.94zm10 10l.94 2.06.94-2.06 2.06-.94-2.06-.94-.94-2.06-.94 2.06-2.06.94z\"/><path d=\"M17.41 7.96l-1.37-1.37c-.4-.4-.92-.59-1.43-.59-.52 0-1.04.2-1.43.59L10.3 9.45l-7.72 7.72c-.78.78-.78 2.05 0 2.83L4 21.41c.39.39.9.59 1.41.59.51 0 1.02-.2 1.41-.59l7.78-7.78 2.81-2.81c.8-.78.8-2.07 0-2.86zM5.41 20L4 18.59l7.72-7.72 1.47 1.35L5.41 20z\"/>\n",
              "  </svg>\n",
              "      </button>\n",
              "      \n",
              "  <style>\n",
              "    .colab-df-container {\n",
              "      display:flex;\n",
              "      flex-wrap:wrap;\n",
              "      gap: 12px;\n",
              "    }\n",
              "\n",
              "    .colab-df-convert {\n",
              "      background-color: #E8F0FE;\n",
              "      border: none;\n",
              "      border-radius: 50%;\n",
              "      cursor: pointer;\n",
              "      display: none;\n",
              "      fill: #1967D2;\n",
              "      height: 32px;\n",
              "      padding: 0 0 0 0;\n",
              "      width: 32px;\n",
              "    }\n",
              "\n",
              "    .colab-df-convert:hover {\n",
              "      background-color: #E2EBFA;\n",
              "      box-shadow: 0px 1px 2px rgba(60, 64, 67, 0.3), 0px 1px 3px 1px rgba(60, 64, 67, 0.15);\n",
              "      fill: #174EA6;\n",
              "    }\n",
              "\n",
              "    [theme=dark] .colab-df-convert {\n",
              "      background-color: #3B4455;\n",
              "      fill: #D2E3FC;\n",
              "    }\n",
              "\n",
              "    [theme=dark] .colab-df-convert:hover {\n",
              "      background-color: #434B5C;\n",
              "      box-shadow: 0px 1px 3px 1px rgba(0, 0, 0, 0.15);\n",
              "      filter: drop-shadow(0px 1px 2px rgba(0, 0, 0, 0.3));\n",
              "      fill: #FFFFFF;\n",
              "    }\n",
              "  </style>\n",
              "\n",
              "      <script>\n",
              "        const buttonEl =\n",
              "          document.querySelector('#df-c25731ad-d133-4027-857a-762df33a4e61 button.colab-df-convert');\n",
              "        buttonEl.style.display =\n",
              "          google.colab.kernel.accessAllowed ? 'block' : 'none';\n",
              "\n",
              "        async function convertToInteractive(key) {\n",
              "          const element = document.querySelector('#df-c25731ad-d133-4027-857a-762df33a4e61');\n",
              "          const dataTable =\n",
              "            await google.colab.kernel.invokeFunction('convertToInteractive',\n",
              "                                                     [key], {});\n",
              "          if (!dataTable) return;\n",
              "\n",
              "          const docLinkHtml = 'Like what you see? Visit the ' +\n",
              "            '<a target=\"_blank\" href=https://colab.research.google.com/notebooks/data_table.ipynb>data table notebook</a>'\n",
              "            + ' to learn more about interactive tables.';\n",
              "          element.innerHTML = '';\n",
              "          dataTable['output_type'] = 'display_data';\n",
              "          await google.colab.output.renderOutput(dataTable, element);\n",
              "          const docLink = document.createElement('div');\n",
              "          docLink.innerHTML = docLinkHtml;\n",
              "          element.appendChild(docLink);\n",
              "        }\n",
              "      </script>\n",
              "    </div>\n",
              "  </div>\n",
              "  "
            ]
          },
          "metadata": {},
          "execution_count": 21
        }
      ],
      "source": [
        "hold_img2"
      ]
    },
    {
      "cell_type": "code",
      "execution_count": null,
      "metadata": {
        "colab": {
          "base_uri": "https://localhost:8080/"
        },
        "id": "_zgBjvuYshOB",
        "outputId": "0ad759cf-cd3b-418a-c11c-b26e7a604130"
      },
      "outputs": [
        {
          "output_type": "stream",
          "name": "stdout",
          "text": [
            "/content/drive/MyDrive/DL_images/final_nbs/cp_nuc_models/trim/temp_racemose_padus_trim1\n"
          ]
        }
      ],
      "source": [
        "cd \"/content/drive/MyDrive/DL_images/final_nbs/cp_nuc_models/trim/temp_racemose_padus_trim1\""
      ]
    },
    {
      "cell_type": "code",
      "execution_count": null,
      "metadata": {
        "id": "2vljn6WOshRa"
      },
      "outputs": [],
      "source": [
        "for counter in range(0,194):\n",
        "  img = hold_img2['image'][counter];\n",
        "  print(img);\n",
        "  x, = first(dls.test_dl([img]));\n",
        "        #  cls 0 for sc, cls 1 for trop race\n",
        "  cls = 1\n",
        "  with HookBwd(learn_inf.model[0][-4]) as hookg:\n",
        "      with Hook(learn_inf.model[0][-4]) as hook:\n",
        "          output = learn_inf.model.eval()(x.cuda())\n",
        "          act = hook.stored\n",
        "      output[0,cls].backward()\n",
        "      grad = hookg.stored\n",
        "  w = grad[0].mean(dim=[1,2], keepdim=True)\n",
        "  cam_map = (w * act[0]).sum(0)\n",
        "  x_dec = TensorImage(dls.train.decode((x,))[0][0])\n",
        "  fig,ax = plt.subplots()\n",
        "  x_dec.show(ctx=ax)\n",
        "  ax.imshow(cam_map.detach().cpu(), alpha=0.6, extent=(0,224,224,0),\n",
        "                interpolation='bilinear', cmap='magma');\n",
        "  filename = '/content/drive/MyDrive/DL_images/CP_NUC/temp_racemose_padus_CAM_trim1/output_tr_fourthlastlayer_' + str(counter) + '.png'\n",
        "  fig.savefig(filename)\n",
        "  plt.close(fig)"
      ]
    },
    {
      "cell_type": "code",
      "execution_count": null,
      "metadata": {
        "id": "p6EWOntlsM8E"
      },
      "outputs": [],
      "source": []
    },
    {
      "cell_type": "code",
      "execution_count": null,
      "metadata": {
        "id": "0AIMc8Z4sM-C"
      },
      "outputs": [],
      "source": [
        "for counter in range(0,194):\n",
        "  img = hold_img2['image'][counter];\n",
        "  print(img);\n",
        "  x, = first(dls.test_dl([img]));\n",
        "        #  cls 0 for sc, cls 1 for trop race\n",
        "  cls = 1\n",
        "  with HookBwd(learn_inf.model[0][-3]) as hookg:\n",
        "      with Hook(learn_inf.model[0][-3]) as hook:\n",
        "          output = learn_inf.model.eval()(x.cuda())\n",
        "          act = hook.stored\n",
        "      output[0,cls].backward()\n",
        "      grad = hookg.stored\n",
        "  w = grad[0].mean(dim=[1,2], keepdim=True)\n",
        "  cam_map = (w * act[0]).sum(0)\n",
        "  x_dec = TensorImage(dls.train.decode((x,))[0][0])\n",
        "  fig,ax = plt.subplots()\n",
        "  x_dec.show(ctx=ax)\n",
        "  ax.imshow(cam_map.detach().cpu(), alpha=0.6, extent=(0,224,224,0),\n",
        "                interpolation='bilinear', cmap='magma');\n",
        "  filename = '/content/drive/MyDrive/DL_images/CP_NUC/temp_racemose_padus_CAM_trim1/output_tr_thirdlastlayer_' + str(counter) + '.png'\n",
        "  fig.savefig(filename)\n",
        "  plt.close(fig)"
      ]
    },
    {
      "cell_type": "code",
      "execution_count": null,
      "metadata": {
        "id": "82VEHlmRwPBi"
      },
      "outputs": [],
      "source": []
    },
    {
      "cell_type": "code",
      "execution_count": null,
      "metadata": {
        "id": "ojBS4EZhwPDO"
      },
      "outputs": [],
      "source": [
        "for counter in range(0,194):\n",
        "  img = hold_img2['image'][counter];\n",
        "  print(img);\n",
        "  x, = first(dls.test_dl([img]));\n",
        "        #  cls 0 for sc, cls 1 for trop race\n",
        "  cls = 1\n",
        "  with HookBwd(learn_inf.model[0][-2]) as hookg:\n",
        "      with Hook(learn_inf.model[0][-2]) as hook:\n",
        "          output = learn_inf.model.eval()(x.cuda())\n",
        "          act = hook.stored\n",
        "      output[0,cls].backward()\n",
        "      grad = hookg.stored\n",
        "  w = grad[0].mean(dim=[1,2], keepdim=True)\n",
        "  cam_map = (w * act[0]).sum(0)\n",
        "  x_dec = TensorImage(dls.train.decode((x,))[0][0])\n",
        "  fig,ax = plt.subplots()\n",
        "  x_dec.show(ctx=ax)\n",
        "  ax.imshow(cam_map.detach().cpu(), alpha=0.6, extent=(0,224,224,0),\n",
        "                interpolation='bilinear', cmap='magma');\n",
        "  filename = '/content/drive/MyDrive/DL_images/CP_NUC/temp_racemose_padus_CAM_trim1/output_tr_secondlastlayer_' + str(counter) + '.png'\n",
        "  fig.savefig(filename)\n",
        "  plt.close(fig)"
      ]
    },
    {
      "cell_type": "code",
      "execution_count": null,
      "metadata": {
        "id": "qqGjA-gzwPFk"
      },
      "outputs": [],
      "source": []
    },
    {
      "cell_type": "code",
      "execution_count": null,
      "metadata": {
        "id": "MZQxxbjGy7j0"
      },
      "outputs": [],
      "source": [
        "for counter in range(0,194):\n",
        " # counter=0;\n",
        "  img = hold_img2['image'][counter];\n",
        "  print(img);\n",
        "  x, = first(dls.test_dl([img]));\n",
        "  with Hook(learn_inf.model[0]) as hook:\n",
        "      with torch.no_grad(): output = learn_inf.model.eval()(x.cuda())\n",
        "      act = hook.stored\n",
        "      #  cls 0 for sc, cls 1 for trop race\n",
        "  cls = 1\n",
        "  with HookBwd(learn_inf.model[0]) as hookg:\n",
        "      with Hook(learn_inf.model[0]) as hook:\n",
        "          output = learn_inf.model.eval()(x.cuda())\n",
        "          act = hook.stored\n",
        "      output[0,cls].backward()\n",
        "      grad = hookg.stored\n",
        "  w = grad[0].mean(dim=[1,2], keepdim=True)\n",
        "  cam_map = (w * act[0]).sum(0)\n",
        "  x_dec = TensorImage(dls.train.decode((x,))[0][0])\n",
        "  fig,ax = plt.subplots()\n",
        "  x_dec.show(ctx=ax)\n",
        "  ax.imshow(cam_map.detach().cpu(), alpha=0.6, extent=(0,224,224,0),\n",
        "                interpolation='bilinear', cmap='magma');\n",
        "  filename = '/content/drive/MyDrive/DL_images/CP_NUC/temp_racemose_padus_CAM_trim1/output_tr_lastlayer_' + str(counter) + '.png';\n",
        "  fig.savefig(filename);\n",
        "  plt.close(fig)"
      ]
    },
    {
      "cell_type": "code",
      "execution_count": null,
      "metadata": {
        "id": "7hNRqm_gwPHM"
      },
      "outputs": [],
      "source": []
    }
  ],
  "metadata": {
    "accelerator": "GPU",
    "colab": {
      "machine_shape": "hm",
      "provenance": [],
      "gpuClass": "premium"
    },
    "gpuClass": "premium",
    "jupytext": {
      "split_at_heading": true
    },
    "kernelspec": {
      "display_name": "Python 3",
      "language": "python",
      "name": "python3"
    }
  },
  "nbformat": 4,
  "nbformat_minor": 0
}